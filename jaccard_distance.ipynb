{
 "cells": [
  {
   "cell_type": "code",
   "execution_count": 122,
   "id": "7476897f-94ea-4a32-b0de-fc5d0f69d495",
   "metadata": {},
   "outputs": [],
   "source": [
    "import json\n",
    "\n",
    "import pandas as pd\n",
    "import numpy as np\n",
    "\n",
    "import seaborn as sns\n",
    "import matplotlib.pyplot as plt\n",
    "\n",
    "from scipy.spatial.distance import (\n",
    "    pdist,\n",
    "    squareform\n",
    ")\n"
   ]
  },
  {
   "cell_type": "markdown",
   "id": "32fba458-5722-4d51-b29f-e124f9f5d8ba",
   "metadata": {},
   "source": [
    "## Example use-case\n"
   ]
  },
  {
   "cell_type": "code",
   "execution_count": 59,
   "id": "757be614-aef4-4c7f-82bd-60ea5f4bf19f",
   "metadata": {},
   "outputs": [],
   "source": [
    "characters = [\n",
    "    { 'name': 'Thorr Moddon',\n",
    "      'attributes' :[{'trait_type': 'Body Armor', 'value': 'Worn Chain'},\n",
    "                      {'trait_type': 'Weapon', 'value': 'Iron Sword'},\n",
    "                      {'trait_type': 'Shoulder', 'value': 'Ogre'},\n",
    "                      {'trait_type': 'Amulet', 'value': 'Copper'}]\n",
    "    },\n",
    "    { 'name': 'Marmy Onrett',\n",
    "      'attributes' :[{'trait_type': 'Body Armor', 'value': 'Worn Chain'},\n",
    "                      {'trait_type': 'Weapon', 'value': 'Iron Sword'},\n",
    "                      {'trait_type': 'Shoulder', 'value': 'Barbaric'},\n",
    "                      {'trait_type': 'Amulet', 'value': 'Copper'}]\n",
    "    },\n",
    "    { 'name': 'Sassayl Delron',\n",
    "      'attributes' :[{'trait_type': 'Body Armor', 'value': 'Draconic'},\n",
    "                      {'trait_type': 'Weapon', 'value': 'Mihtril Axe'},\n",
    "                      {'trait_type': 'Shoulder', 'value': 'Barbaric'},\n",
    "                      {'trait_type': 'Amulet', 'value': 'Copper'}]\n",
    "    }\n",
    "]"
   ]
  },
  {
   "cell_type": "code",
   "execution_count": 94,
   "id": "5b14eb90-9199-4389-bdf2-df8a091643ab",
   "metadata": {},
   "outputs": [],
   "source": [
    "def create_nft_collection_df(nft_collection):\n",
    "    def get_attributes_as_df(nft_item):\n",
    "        attributes = pd.DataFrame.from_records(nft_item['attributes'])\n",
    "        attributes['nft_name'] = nft_item['name']\n",
    "        return attributes\n",
    "\n",
    "\n",
    "    nft_attr = pd.concat([get_attributes_as_df(nft_item) for nft_item in nft_collection])\n",
    "    nft_attr = nft_attr.reset_index().drop('index', axis=1)\n",
    "\n",
    "    nft_attr['trait_id'] = nft_attr.groupby(nft_attr[[\"trait_type\", \"value\"]].\\\n",
    "                                apply(frozenset, axis=1)).ngroup()\n",
    "    nft_attr['nft_id'] = nft_attr.groupby(nft_attr[['nft_name']].apply(frozenset, axis=1)).ngroup()\n",
    "    return nft_attr"
   ]
  },
  {
   "cell_type": "code",
   "execution_count": 95,
   "id": "33222f46-d2aa-44e6-9705-a423a4f92979",
   "metadata": {},
   "outputs": [
    {
     "data": {
      "text/html": [
       "<div>\n",
       "<style scoped>\n",
       "    .dataframe tbody tr th:only-of-type {\n",
       "        vertical-align: middle;\n",
       "    }\n",
       "\n",
       "    .dataframe tbody tr th {\n",
       "        vertical-align: top;\n",
       "    }\n",
       "\n",
       "    .dataframe thead th {\n",
       "        text-align: right;\n",
       "    }\n",
       "</style>\n",
       "<table border=\"1\" class=\"dataframe\">\n",
       "  <thead>\n",
       "    <tr style=\"text-align: right;\">\n",
       "      <th></th>\n",
       "      <th>trait_type</th>\n",
       "      <th>value</th>\n",
       "      <th>nft_name</th>\n",
       "      <th>trait_id</th>\n",
       "      <th>nft_id</th>\n",
       "    </tr>\n",
       "  </thead>\n",
       "  <tbody>\n",
       "    <tr>\n",
       "      <th>0</th>\n",
       "      <td>Body Armor</td>\n",
       "      <td>Worn Chain</td>\n",
       "      <td>Thorr Moddon</td>\n",
       "      <td>0</td>\n",
       "      <td>0</td>\n",
       "    </tr>\n",
       "    <tr>\n",
       "      <th>1</th>\n",
       "      <td>Weapon</td>\n",
       "      <td>Iron Sword</td>\n",
       "      <td>Thorr Moddon</td>\n",
       "      <td>1</td>\n",
       "      <td>0</td>\n",
       "    </tr>\n",
       "    <tr>\n",
       "      <th>2</th>\n",
       "      <td>Shoulder</td>\n",
       "      <td>Ogre</td>\n",
       "      <td>Thorr Moddon</td>\n",
       "      <td>2</td>\n",
       "      <td>0</td>\n",
       "    </tr>\n",
       "    <tr>\n",
       "      <th>3</th>\n",
       "      <td>Amulet</td>\n",
       "      <td>Copper</td>\n",
       "      <td>Thorr Moddon</td>\n",
       "      <td>3</td>\n",
       "      <td>0</td>\n",
       "    </tr>\n",
       "    <tr>\n",
       "      <th>4</th>\n",
       "      <td>Body Armor</td>\n",
       "      <td>Worn Chain</td>\n",
       "      <td>Marmy Onrett</td>\n",
       "      <td>0</td>\n",
       "      <td>1</td>\n",
       "    </tr>\n",
       "    <tr>\n",
       "      <th>5</th>\n",
       "      <td>Weapon</td>\n",
       "      <td>Iron Sword</td>\n",
       "      <td>Marmy Onrett</td>\n",
       "      <td>1</td>\n",
       "      <td>1</td>\n",
       "    </tr>\n",
       "    <tr>\n",
       "      <th>6</th>\n",
       "      <td>Shoulder</td>\n",
       "      <td>Barbaric</td>\n",
       "      <td>Marmy Onrett</td>\n",
       "      <td>4</td>\n",
       "      <td>1</td>\n",
       "    </tr>\n",
       "    <tr>\n",
       "      <th>7</th>\n",
       "      <td>Amulet</td>\n",
       "      <td>Copper</td>\n",
       "      <td>Marmy Onrett</td>\n",
       "      <td>3</td>\n",
       "      <td>1</td>\n",
       "    </tr>\n",
       "    <tr>\n",
       "      <th>8</th>\n",
       "      <td>Body Armor</td>\n",
       "      <td>Draconic</td>\n",
       "      <td>Sassayl Delron</td>\n",
       "      <td>5</td>\n",
       "      <td>2</td>\n",
       "    </tr>\n",
       "    <tr>\n",
       "      <th>9</th>\n",
       "      <td>Weapon</td>\n",
       "      <td>Mihtril Axe</td>\n",
       "      <td>Sassayl Delron</td>\n",
       "      <td>6</td>\n",
       "      <td>2</td>\n",
       "    </tr>\n",
       "    <tr>\n",
       "      <th>10</th>\n",
       "      <td>Shoulder</td>\n",
       "      <td>Barbaric</td>\n",
       "      <td>Sassayl Delron</td>\n",
       "      <td>4</td>\n",
       "      <td>2</td>\n",
       "    </tr>\n",
       "    <tr>\n",
       "      <th>11</th>\n",
       "      <td>Amulet</td>\n",
       "      <td>Copper</td>\n",
       "      <td>Sassayl Delron</td>\n",
       "      <td>3</td>\n",
       "      <td>2</td>\n",
       "    </tr>\n",
       "  </tbody>\n",
       "</table>\n",
       "</div>"
      ],
      "text/plain": [
       "    trait_type        value        nft_name  trait_id  nft_id\n",
       "0   Body Armor   Worn Chain    Thorr Moddon         0       0\n",
       "1       Weapon   Iron Sword    Thorr Moddon         1       0\n",
       "2     Shoulder         Ogre    Thorr Moddon         2       0\n",
       "3       Amulet       Copper    Thorr Moddon         3       0\n",
       "4   Body Armor   Worn Chain    Marmy Onrett         0       1\n",
       "5       Weapon   Iron Sword    Marmy Onrett         1       1\n",
       "6     Shoulder     Barbaric    Marmy Onrett         4       1\n",
       "7       Amulet       Copper    Marmy Onrett         3       1\n",
       "8   Body Armor     Draconic  Sassayl Delron         5       2\n",
       "9       Weapon  Mihtril Axe  Sassayl Delron         6       2\n",
       "10    Shoulder     Barbaric  Sassayl Delron         4       2\n",
       "11      Amulet       Copper  Sassayl Delron         3       2"
      ]
     },
     "execution_count": 95,
     "metadata": {},
     "output_type": "execute_result"
    }
   ],
   "source": [
    "character_attrs_df = create_nft_collection_df(characters)\n",
    "character_attrs_df.head(20)"
   ]
  },
  {
   "cell_type": "code",
   "execution_count": 96,
   "id": "1cefe6bd-57c9-4684-80d6-72718ff2d958",
   "metadata": {},
   "outputs": [],
   "source": [
    "def create_one_hot_encoded_attributes(attrs_df):\n",
    "    total_trait = attrs_df['trait_id'].nunique()\n",
    "\n",
    "    def create_one_hot_encoded_vector(trait_ids):\n",
    "        trait_vector = pd.Series([False] * total_trait)\n",
    "        trait_vector[trait_ids] = True\n",
    "        return trait_vector\n",
    "    \n",
    "    return attrs_df.groupby('nft_id')['trait_id'].apply(create_one_hot_encoded_vector).unstack(level=1)"
   ]
  },
  {
   "cell_type": "code",
   "execution_count": 104,
   "id": "87f09675-af38-48e8-9a6a-03b55e306b64",
   "metadata": {},
   "outputs": [
    {
     "data": {
      "text/html": [
       "<div>\n",
       "<style scoped>\n",
       "    .dataframe tbody tr th:only-of-type {\n",
       "        vertical-align: middle;\n",
       "    }\n",
       "\n",
       "    .dataframe tbody tr th {\n",
       "        vertical-align: top;\n",
       "    }\n",
       "\n",
       "    .dataframe thead th {\n",
       "        text-align: right;\n",
       "    }\n",
       "</style>\n",
       "<table border=\"1\" class=\"dataframe\">\n",
       "  <thead>\n",
       "    <tr style=\"text-align: right;\">\n",
       "      <th></th>\n",
       "      <th>0</th>\n",
       "      <th>1</th>\n",
       "      <th>2</th>\n",
       "      <th>3</th>\n",
       "      <th>4</th>\n",
       "      <th>5</th>\n",
       "      <th>6</th>\n",
       "    </tr>\n",
       "    <tr>\n",
       "      <th>nft_id</th>\n",
       "      <th></th>\n",
       "      <th></th>\n",
       "      <th></th>\n",
       "      <th></th>\n",
       "      <th></th>\n",
       "      <th></th>\n",
       "      <th></th>\n",
       "    </tr>\n",
       "  </thead>\n",
       "  <tbody>\n",
       "    <tr>\n",
       "      <th>0</th>\n",
       "      <td>True</td>\n",
       "      <td>True</td>\n",
       "      <td>True</td>\n",
       "      <td>True</td>\n",
       "      <td>False</td>\n",
       "      <td>False</td>\n",
       "      <td>False</td>\n",
       "    </tr>\n",
       "    <tr>\n",
       "      <th>1</th>\n",
       "      <td>True</td>\n",
       "      <td>True</td>\n",
       "      <td>False</td>\n",
       "      <td>True</td>\n",
       "      <td>True</td>\n",
       "      <td>False</td>\n",
       "      <td>False</td>\n",
       "    </tr>\n",
       "    <tr>\n",
       "      <th>2</th>\n",
       "      <td>False</td>\n",
       "      <td>False</td>\n",
       "      <td>False</td>\n",
       "      <td>True</td>\n",
       "      <td>True</td>\n",
       "      <td>True</td>\n",
       "      <td>True</td>\n",
       "    </tr>\n",
       "  </tbody>\n",
       "</table>\n",
       "</div>"
      ],
      "text/plain": [
       "            0      1      2     3      4      5      6\n",
       "nft_id                                                \n",
       "0        True   True   True  True  False  False  False\n",
       "1        True   True  False  True   True  False  False\n",
       "2       False  False  False  True   True   True   True"
      ]
     },
     "execution_count": 104,
     "metadata": {},
     "output_type": "execute_result"
    }
   ],
   "source": [
    "one_hot_encoded_characters = create_one_hot_encoded_attributes(character_attrs_df)\n",
    "one_hot_encoded_characters.head()"
   ]
  },
  {
   "cell_type": "code",
   "execution_count": 103,
   "id": "cfc8cd48-b22b-4ff5-8b3f-5a2ca5367b20",
   "metadata": {},
   "outputs": [
    {
     "data": {
      "text/plain": [
       "array([0.6       , 0.14285714, 0.33333333])"
      ]
     },
     "execution_count": 103,
     "metadata": {},
     "output_type": "execute_result"
    }
   ],
   "source": [
    "j_distances = 1 - pdist(one_hot_encoded_characters, 'jaccard')\n",
    "j_distances"
   ]
  },
  {
   "cell_type": "code",
   "execution_count": 102,
   "id": "4ce10681-43b1-4d8a-b8b5-354aa39c2b8b",
   "metadata": {},
   "outputs": [
    {
     "data": {
      "text/html": [
       "<div>\n",
       "<style scoped>\n",
       "    .dataframe tbody tr th:only-of-type {\n",
       "        vertical-align: middle;\n",
       "    }\n",
       "\n",
       "    .dataframe tbody tr th {\n",
       "        vertical-align: top;\n",
       "    }\n",
       "\n",
       "    .dataframe thead th {\n",
       "        text-align: right;\n",
       "    }\n",
       "</style>\n",
       "<table border=\"1\" class=\"dataframe\">\n",
       "  <thead>\n",
       "    <tr style=\"text-align: right;\">\n",
       "      <th></th>\n",
       "      <th>0</th>\n",
       "      <th>1</th>\n",
       "      <th>2</th>\n",
       "    </tr>\n",
       "  </thead>\n",
       "  <tbody>\n",
       "    <tr>\n",
       "      <th>0</th>\n",
       "      <td>0.000000</td>\n",
       "      <td>0.600000</td>\n",
       "      <td>0.142857</td>\n",
       "    </tr>\n",
       "    <tr>\n",
       "      <th>1</th>\n",
       "      <td>0.600000</td>\n",
       "      <td>0.000000</td>\n",
       "      <td>0.333333</td>\n",
       "    </tr>\n",
       "    <tr>\n",
       "      <th>2</th>\n",
       "      <td>0.142857</td>\n",
       "      <td>0.333333</td>\n",
       "      <td>0.000000</td>\n",
       "    </tr>\n",
       "  </tbody>\n",
       "</table>\n",
       "</div>"
      ],
      "text/plain": [
       "          0         1         2\n",
       "0  0.000000  0.600000  0.142857\n",
       "1  0.600000  0.000000  0.333333\n",
       "2  0.142857  0.333333  0.000000"
      ]
     },
     "execution_count": 102,
     "metadata": {},
     "output_type": "execute_result"
    }
   ],
   "source": [
    "j_distances_df = pd.DataFrame(squareform(j_distances))\n",
    "j_distances_df.head()"
   ]
  },
  {
   "cell_type": "code",
   "execution_count": 110,
   "id": "e0b8cb97-42d8-428e-b6bd-6800ab6824e7",
   "metadata": {},
   "outputs": [
    {
     "data": {
      "text/plain": [
       "2    0.476190\n",
       "0    0.742857\n",
       "1    0.933333\n",
       "dtype: float64"
      ]
     },
     "execution_count": 110,
     "metadata": {},
     "output_type": "execute_result"
    }
   ],
   "source": [
    "j_scores = j_distances_df.agg('sum').sort_values()\n",
    "j_scores.head()"
   ]
  },
  {
   "cell_type": "code",
   "execution_count": 109,
   "id": "b2abcfc0-89df-4e83-8f67-b1756aaec9ef",
   "metadata": {},
   "outputs": [
    {
     "data": {
      "text/plain": [
       "2    100.000000\n",
       "0     41.666667\n",
       "1      0.000000\n",
       "dtype: float64"
      ]
     },
     "execution_count": 158,
     "metadata": {},
     "output_type": "execute_result"
    }
   ],
   "source": [
    "j_scores = ((j_scores - j_scores.min()) / (j_scores.max() - j_scores.min())) * 100\n",
    "j_scores.head()"
   ]
  },
  {
   "cell_type": "code",
   "execution_count": 113,
   "id": "8706e0d9-3a21-4721-81a5-758fc0f4baa4",
   "metadata": {},
   "outputs": [],
   "source": [
    "def calculate_jaccard_score(one_hot_encoded_df):\n",
    "    j_distances = 1 - pdist(one_hot_encoded_df, 'jaccard')\n",
    "    j_distances_df = pd.DataFrame(squareform(j_distances))\n",
    "    j_scores = j_distances_df.agg('sum').sort_values()\n",
    "    j_scores = ((j_scores - j_scores.min()) / (j_scores.max() - j_scores.min())) * 100 # normalize\n",
    "    return j_scores"
   ]
  },
  {
   "cell_type": "markdown",
   "id": "44d5cc37-2346-4b6e-8ac6-ddf3ca5bccc0",
   "metadata": {},
   "source": [
    "## Working with NFT Collection data"
   ]
  },
  {
   "cell_type": "code",
   "execution_count": 154,
   "id": "63d4e72f-e6f8-42ae-9135-a2827bf7190f",
   "metadata": {},
   "outputs": [],
   "source": [
    "def rarity_score_pipeline(collection_name):\n",
    "    \"\"\"\n",
    "    executes sequential operations to calculate rarity scores \n",
    "    based on jaccard distance\n",
    "    \n",
    "    |--> loads .json file\n",
    "    |--> creates pandas.DataFrame from json\n",
    "    |--> creates one-hot encoded attributes DataFrame\n",
    "    |--> calculates pair-wise Jaccard distance matrix\n",
    "        |--> aggregates pair-wise Jaccard distances to calculate \n",
    "              rarity score for each NFT\n",
    "        |--> normalizes rarity scores between 0 and 100\n",
    "        |--> sort NFT's w.r.t rarity score\n",
    "    |--> visualize rarity curve and histogram.\n",
    "    \n",
    "    returns\n",
    "    |--> nft_attrs_df from 2nd step\n",
    "    |--> one_hot_attrs_df from 3rd step\n",
    "    |--> jaccard_scores from 4th step\n",
    "    \n",
    "    \"\"\"\n",
    "    \n",
    "    with open(f'{collection_name}.json', 'rb') as fp:\n",
    "        nft_collection = json.load(fp)\n",
    "        \n",
    "    nft_attrs_df = create_nft_collection_df(nft_collection)\n",
    "    \n",
    "    one_hot_attrs_df = create_one_hot_encoded_attributes(nft_attrs_df)\n",
    "    \n",
    "    jaccard_scores = calculate_jaccard_score(one_hot_attrs_df)\n",
    "    \n",
    "    fig, ax = plt.subplots(2,1)\n",
    "    fig.tight_layout()\n",
    "    sns.lineplot(jaccard_scores.values, ax=ax[0]).set_title(f'Rarity curve of {collection_name}')\n",
    "    sns.histplot(jaccard_scores.values, kde=True, ax=ax[1]).set_title(f'Rarity distribution of {collection_name}')\n",
    "    return nft_attrs_df, one_hot_attrs_df, jaccard_scores"
   ]
  },
  {
   "cell_type": "code",
   "execution_count": 156,
   "id": "02d9f688-3d29-477d-af7d-0f383f9d31d8",
   "metadata": {},
   "outputs": [
    {
     "data": {
      "image/png": "[encoded data removed]",
      "text/plain": [
       "<Figure size 640x480 with 2 Axes>"
      ]
     },
     "metadata": {},
     "output_type": "display_data"
    }
   ],
   "source": [
    "moonbirds_results =  rarity_score_pipeline('moonbirds')"
   ]
  },
  {
   "cell_type": "code",
   "execution_count": null,
   "id": "d49c2a56-d674-46d8-9a1a-100bd8e2d88d",
   "metadata": {},
   "outputs": [
    {
     "data": {
      "image/png": "[encoded data removed]",
      "text/plain": [
       "<Figure size 640x480 with 2 Axes>"
      ]
     },
     "metadata": {},
     "output_type": "display_data"
    }
   ],
   "source": [
    "bayc_results =  rarity_score_pipeline('bayc')"
   ]
  },
  {
   "cell_type": "code",
   "execution_count": null,
   "id": "cdbb7b23-fb12-41dc-9928-c43089ab29f0",
   "metadata": {},
   "outputs": [],
   "source": []
  }
 ],
 "metadata": {
  "kernelspec": {
   "display_name": "Python 3 (ipykernel)",
   "language": "python",
   "name": "python3"
  },
  "language_info": {
   "codemirror_mode": {
    "name": "ipython",
    "version": 3
   },
   "file_extension": ".py",
   "mimetype": "text/x-python",
   "name": "python",
   "nbconvert_exporter": "python",
   "pygments_lexer": "ipython3",
   "version": "3.9.6"
  }
 },
 "nbformat": 4,
 "nbformat_minor": 5
}
