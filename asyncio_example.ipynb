{
 "cells": [
  {
   "cell_type": "code",
   "execution_count": 13,
   "id": "ee89ac3d",
   "metadata": {},
   "outputs": [
    {
     "name": "stdout",
     "output_type": "stream",
     "text": [
      "Defaulting to user installation because normal site-packages is not writeable\n",
      "Requirement already satisfied: aiohttp in /Users/kaan/Library/Python/3.9/lib/python/site-packages (3.8.3)\n",
      "Requirement already satisfied: multidict<7.0,>=4.5 in /Users/kaan/Library/Python/3.9/lib/python/site-packages (from aiohttp) (6.0.2)\n",
      "Requirement already satisfied: yarl<2.0,>=1.0 in /Users/kaan/Library/Python/3.9/lib/python/site-packages (from aiohttp) (1.8.1)\n",
      "Requirement already satisfied: charset-normalizer<3.0,>=2.0 in /Users/kaan/Library/Python/3.9/lib/python/site-packages (from aiohttp) (2.1.1)\n",
      "Requirement already satisfied: attrs>=17.3.0 in /Users/kaan/Library/Python/3.9/lib/python/site-packages (from aiohttp) (22.1.0)\n",
      "Requirement already satisfied: aiosignal>=1.1.2 in /Users/kaan/Library/Python/3.9/lib/python/site-packages (from aiohttp) (1.2.0)\n",
      "Requirement already satisfied: frozenlist>=1.1.1 in /Users/kaan/Library/Python/3.9/lib/python/site-packages (from aiohttp) (1.3.1)\n",
      "Requirement already satisfied: async-timeout<5.0,>=4.0.0a3 in /Users/kaan/Library/Python/3.9/lib/python/site-packages (from aiohttp) (4.0.2)\n",
      "Requirement already satisfied: idna>=2.0 in /Users/kaan/Library/Python/3.9/lib/python/site-packages (from yarl<2.0,>=1.0->aiohttp) (3.4)\n"
     ]
    }
   ],
   "source": [
    "!pip install aiohttp"
   ]
  },
  {
   "cell_type": "code",
   "execution_count": 1,
   "id": "5b94ffaa",
   "metadata": {},
   "outputs": [],
   "source": [
    "import asyncio\n",
    "import aiohttp\n",
    "import requests\n",
    "import time\n",
    "import json\n",
    "from itertools import islice"
   ]
  },
  {
   "cell_type": "code",
   "execution_count": 2,
   "id": "c2f1edce",
   "metadata": {},
   "outputs": [],
   "source": [
    "def chunked_iterable(iterable, chunk_size):\n",
    "    it = iter(iterable)\n",
    "    while True:\n",
    "        chunk = list(islice(it, chunk_size))\n",
    "        if not chunk:\n",
    "            break\n",
    "        yield chunk"
   ]
  },
  {
   "cell_type": "code",
   "execution_count": 3,
   "id": "9f2c3ebb",
   "metadata": {},
   "outputs": [],
   "source": [
    "class timeit_context(object):\n",
    "    def __init__(self):\n",
    "        self.initial = None\n",
    "\n",
    "    def __enter__(self):\n",
    "        self.initial = time.time()\n",
    "\n",
    "    def __exit__(self, type_arg, value, traceback):\n",
    "        print('Total time elapsed {} sec'.format(time.time() - self.initial))"
   ]
  },
  {
   "cell_type": "code",
   "execution_count": 4,
   "id": "6c510b75",
   "metadata": {},
   "outputs": [],
   "source": [
    "async def get_collection_attributes_async(base_url, nft_id_list):\n",
    "    attributes = []\n",
    "    max_workers = 200\n",
    "    tcp_connection = aiohttp.TCPConnector(limit=max_workers)\n",
    "    async with aiohttp.ClientSession(connector=tcp_connection) as session:\n",
    "        for nft_id_chunk in chunked_iterable(nft_id_list, max_workers):\n",
    "            results = await get_nft_attributes_of_chuck(base_url, nft_id_chunk, session)\n",
    "            attributes.extend(results)\n",
    "    \n",
    "    await tcp_connection.close()\n",
    "    return attributes"
   ]
  },
  {
   "cell_type": "code",
   "execution_count": 5,
   "id": "e7458052",
   "metadata": {},
   "outputs": [],
   "source": [
    "def get_collection_attributes_sync(base_url, nft_id_list):\n",
    "    timeout = 10\n",
    "    header = {'User-Agent': 'Mozilla/5.0 (X11; Linux x86_64) '\n",
    "                            'AppleWebKit/537.11 (KHTML, like Gecko) '\n",
    "                            'Chrome/23.0.1271.64 Safari/537.11',\n",
    "              'Accept': 'text/html,application/xhtml+xml,application/xml;q=0.9,*/*;q=0.8',\n",
    "              'Accept-Charset': 'ISO-8859-1,utf-8;q=0.7,*;q=0.3',\n",
    "              'Accept-Encoding': 'none',\n",
    "              'Accept-Language': 'en-US,en;q=0.8',\n",
    "              'Connection': 'keep-alive'}\n",
    "    \n",
    "    attributes = []\n",
    "    for nft_id in nft_id_list:\n",
    "        response = requests.get(url=f'{base_url}/{nft_id}', headers=header, timeout=timeout)\n",
    "        attributes.append(json.loads(response.text))\n",
    "    return response"
   ]
  },
  {
   "cell_type": "code",
   "execution_count": 6,
   "id": "dc1c4267",
   "metadata": {},
   "outputs": [],
   "source": [
    "async def get_nft_attributes_of_chuck(base_url, nft_id_list, session):\n",
    "    tasks = []\n",
    "    \n",
    "    for nft_id in nft_id_list:\n",
    "        url = f'{base_url}/{nft_id}'\n",
    "        task = asyncio.ensure_future(get_nft_attributes(url, session=session))\n",
    "        tasks.append(task)\n",
    "    \n",
    "    return await asyncio.gather(*tasks, return_exceptions=True)"
   ]
  },
  {
   "cell_type": "code",
   "execution_count": 7,
   "id": "34e39f72",
   "metadata": {},
   "outputs": [],
   "source": [
    "async def get_nft_attributes(url, session):\n",
    "    timeout = 10\n",
    "    try:\n",
    "        async with session.get(url, timeout=timeout) as response:\n",
    "            result = await response.text()\n",
    "            return json.loads(result)\n",
    "    except Exception as e:\n",
    "        print(\n",
    "            f\"Fetcha could not get the data for NFT. Error message: {e}. URL : {url}\")\n",
    "        return {}"
   ]
  },
  {
   "cell_type": "code",
   "execution_count": 8,
   "id": "a9bda9db",
   "metadata": {},
   "outputs": [
    {
     "name": "stdout",
     "output_type": "stream",
     "text": [
      "Total time elapsed 11.485644102096558 sec\n"
     ]
    }
   ],
   "source": [
    "token_base_url = 'https://api.coolcatsnft.com/cat'\n",
    "nft_id_start = 0\n",
    "nft_id_end = 2000\n",
    "\n",
    "with timeit_context():\n",
    "    attributes = await get_collection_attributes_async(token_base_url, range(nft_id_start, nft_id_end))\n"
   ]
  },
  {
   "cell_type": "code",
   "execution_count": null,
   "id": "31f59278",
   "metadata": {},
   "outputs": [],
   "source": [
    "with timeit_context():\n",
    "    attributes = get_collection_attributes_sync(token_base_url, range(nft_id_start, nft_id_end))\n"
   ]
  },
  {
   "cell_type": "code",
   "execution_count": null,
   "id": "15301c06",
   "metadata": {},
   "outputs": [],
   "source": []
  }
 ],
 "metadata": {
  "kernelspec": {
   "display_name": "Python 3 (ipykernel)",
   "language": "python",
   "name": "python3"
  },
  "language_info": {
   "codemirror_mode": {
    "name": "ipython",
    "version": 3
   },
   "file_extension": ".py",
   "mimetype": "text/x-python",
   "name": "python",
   "nbconvert_exporter": "python",
   "pygments_lexer": "ipython3",
   "version": "3.9.6"
  }
 },
 "nbformat": 4,
 "nbformat_minor": 5
}
