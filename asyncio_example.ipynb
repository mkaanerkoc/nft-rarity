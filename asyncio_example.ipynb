{
 "cells": [
  {
   "cell_type": "code",
   "execution_count": null,
   "id": "ee89ac3d",
   "metadata": {},
   "outputs": [],
   "source": [
    "!pip install aiohttp"
   ]
  },
  {
   "cell_type": "code",
   "execution_count": null,
   "id": "5b94ffaa",
   "metadata": {},
   "outputs": [],
   "source": [
    "import asyncio\n",
    "import aiohttp\n",
    "import requests\n",
    "import time\n",
    "import json\n",
    "import os\n",
    "from itertools import islice"
   ]
  },
  {
   "cell_type": "code",
   "execution_count": null,
   "id": "c2f1edce",
   "metadata": {},
   "outputs": [],
   "source": [
    "def chunked_iterable(iterable, chunk_size):\n",
    "    it = iter(iterable)\n",
    "    while True:\n",
    "        chunk = list(islice(it, chunk_size))\n",
    "        if not chunk:\n",
    "            break\n",
    "        yield chunk"
   ]
  },
  {
   "cell_type": "code",
   "execution_count": null,
   "id": "9f2c3ebb",
   "metadata": {},
   "outputs": [],
   "source": [
    "class timeit_context(object):\n",
    "    def __init__(self):\n",
    "        self.initial = None\n",
    "\n",
    "    def __enter__(self):\n",
    "        self.initial = time.time()\n",
    "\n",
    "    def __exit__(self, type_arg, value, traceback):\n",
    "        print('Total time elapsed {} sec'.format(time.time() - self.initial))"
   ]
  },
  {
   "cell_type": "code",
   "execution_count": null,
   "id": "6c510b75",
   "metadata": {},
   "outputs": [],
   "source": [
    "async def get_collection_attributes_async(base_url, nft_id_list):\n",
    "    attributes = [] # to store NFT data\n",
    "    max_workers = 250\n",
    "    \n",
    "    tcp_connection = aiohttp.TCPConnector(limit=max_workers)\n",
    "    async with aiohttp.ClientSession(connector=tcp_connection) as session:\n",
    "        for nft_id_chunk in chunked_iterable(nft_id_list, max_workers):\n",
    "            results = await get_nft_attributes_of_chunk(base_url, nft_id_chunk, session)\n",
    "            attributes.extend(results)\n",
    "    \n",
    "    await tcp_connection.close()\n",
    "    return attributes"
   ]
  },
  {
   "cell_type": "code",
   "execution_count": null,
   "id": "e7458052",
   "metadata": {},
   "outputs": [],
   "source": [
    "def get_collection_attributes_sync(base_url, nft_id_list):\n",
    "    timeout = 10\n",
    "    header = {'User-Agent': 'Mozilla/5.0 (X11; Linux x86_64) '\n",
    "                            'AppleWebKit/537.11 (KHTML, like Gecko) '\n",
    "                            'Chrome/23.0.1271.64 Safari/537.11',\n",
    "              'Accept': 'text/html,application/xhtml+xml,application/xml;q=0.9,*/*;q=0.8',\n",
    "              'Accept-Charset': 'ISO-8859-1,utf-8;q=0.7,*;q=0.3',\n",
    "              'Accept-Encoding': 'none',\n",
    "              'Accept-Language': 'en-US,en;q=0.8',\n",
    "              'Connection': 'keep-alive'}\n",
    "    \n",
    "    attributes = []\n",
    "    for nft_id in nft_id_list:\n",
    "        response = requests.get(url=f'{base_url}/{nft_id}', headers=header, timeout=timeout)\n",
    "        attributes.append(json.loads(response.text))\n",
    "    return response"
   ]
  },
  {
   "cell_type": "code",
   "execution_count": null,
   "id": "dc1c4267",
   "metadata": {},
   "outputs": [],
   "source": [
    "async def get_nft_attributes_of_chunk(base_url, nft_id_list, session):\n",
    "    tasks = []\n",
    "    \n",
    "    for nft_id in nft_id_list:\n",
    "        if 'ipfs://' in base_url:\n",
    "            task = asyncio.ensure_future(get_nft_attributes_from_infura(base_url, nft_id, session=session))\n",
    "        else:\n",
    "            task = asyncio.ensure_future(get_nft_attributes(base_url, nft_id, session=session))\n",
    "        tasks.append(task)\n",
    "    \n",
    "    return await asyncio.gather(*tasks, return_exceptions=True)"
   ]
  },
  {
   "cell_type": "code",
   "execution_count": null,
   "id": "34e39f72",
   "metadata": {},
   "outputs": [],
   "source": [
    "async def get_nft_attributes(base_url, nft_id, session):\n",
    "    \"\"\" I/O Bound HTTP Get method for single NFT \"\"\"\n",
    "    timeout = 10\n",
    "    nft_url = f\"{base_url}/{nft_id}\"\n",
    "    try:\n",
    "        async with session.get(nft_url, timeout=timeout) as response:\n",
    "            result = await response.text()\n",
    "            return json.loads(result)\n",
    "    except Exception as e:\n",
    "        print(\n",
    "            f\"Fetcha could not get the data for NFT. Error message: {e}. URL : {nft_url}\")\n",
    "        return {}"
   ]
  },
  {
   "cell_type": "code",
   "execution_count": 19,
   "id": "4e376a09-e2c7-48dc-8677-37bdf93bcc41",
   "metadata": {},
   "outputs": [],
   "source": [
    "async def get_nft_attributes_from_infura(base_url, nft_id, session):\n",
    "    \"\"\"\n",
    "    IO-bound call for requesting NFT data with HTTP Post method through Infura gateway.\n",
    "    \"\"\"\n",
    "    timeout = 20\n",
    "    \n",
    "    project_id = os.getenv('INFURA_PROJECT_ID')\n",
    "    project_secret = os.getenv('INFURA_PROJECT_SECRET')\n",
    "    \n",
    "    collection_id = base_url.split('ipfs://')[1]\n",
    "    nft_url = f'https://ipfs.infura.io:5001/api/v0/cat?arg={collection_id}/{nft_id}'\n",
    "\n",
    "    try:\n",
    "        async with session.post(nft_url, auth=aiohttp.BasicAuth(project_id, project_secret),\n",
    "                                timeout=timeout) as response:\n",
    "            result = await response.text()\n",
    "            json_result =  json.loads(result)\n",
    "            json_result['name'] = json_result.get('name', nft_id)\n",
    "            return json_result\n",
    "    except Exception as e:\n",
    "        print(\n",
    "            f\"Fetcha could not get the data from INFURA with POST for NFT. Error message: {e}. URL : {nft_url}\")\n",
    "        return {}"
   ]
  },
  {
   "cell_type": "code",
   "execution_count": 21,
   "id": "a9bda9db",
   "metadata": {},
   "outputs": [
    {
     "name": "stdout",
     "output_type": "stream",
     "text": [
      "Total time elapsed 47.09220099449158 sec\n",
      "Done writing JSON data into .json file\n"
     ]
    }
   ],
   "source": [
    "parameters = {\n",
    "    'bayc' : { \n",
    "        'base_url' : 'ipfs://QmeSjSinHpPnmXmspMjwiXyN6zS4E9zccariGR3jxcaWtq',\n",
    "        'id_start' : 0,\n",
    "        'id_end'   : 10000,\n",
    "    },\n",
    "    'moonbirds': {\n",
    "        'base_url' : 'https://live---metadata-5covpqijaa-uc.a.run.app/metadata/',\n",
    "        'id_start' : 0,\n",
    "        'id_end': 10000\n",
    "    }\n",
    "}\n",
    "\n",
    "async def store_nft_attributes(nft_collection):\n",
    "    params = parameters[nft_collection]\n",
    "    base_url = params['base_url']\n",
    "    id_start, id_end = params['id_start'], params['id_end']\n",
    "    with timeit_context():\n",
    "        attributes = await get_collection_attributes_async(base_url, range(id_start, id_end))\n",
    "        \n",
    "    with open(f'{nft_collection}.json', 'w') as fp:\n",
    "        json.dump(attributes, fp)\n",
    "        print('Done writing JSON data into .json file')\n",
    "\n",
    "\n",
    "await store_nft_attributes('bayc')"
   ]
  },
  {
   "cell_type": "code",
   "execution_count": null,
   "id": "31f59278",
   "metadata": {},
   "outputs": [],
   "source": [
    "with timeit_context():\n",
    "    attributes = get_collection_attributes_sync(token_base_url, range(nft_id_start, nft_id_end))\n"
   ]
  }
 ],
 "metadata": {
  "kernelspec": {
   "display_name": "Python 3 (ipykernel)",
   "language": "python",
   "name": "python3"
  },
  "language_info": {
   "codemirror_mode": {
    "name": "ipython",
    "version": 3
   },
   "file_extension": ".py",
   "mimetype": "text/x-python",
   "name": "python",
   "nbconvert_exporter": "python",
   "pygments_lexer": "ipython3",
   "version": "3.9.6"
  }
 },
 "nbformat": 4,
 "nbformat_minor": 5
}
